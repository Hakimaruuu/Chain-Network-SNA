{
 "metadata": {
  "language_info": {
   "codemirror_mode": {
    "name": "ipython",
    "version": 3
   },
   "file_extension": ".py",
   "mimetype": "text/x-python",
   "name": "python",
   "nbconvert_exporter": "python",
   "pygments_lexer": "ipython3",
   "version": "3.9.1"
  },
  "orig_nbformat": 4,
  "kernelspec": {
   "name": "python3",
   "display_name": "Python 3.9.1 64-bit"
  },
  "interpreter": {
   "hash": "63fd5069d213b44bf678585dea6b12cceca9941eaf7f819626cde1f2670de90d"
  }
 },
 "nbformat": 4,
 "nbformat_minor": 2,
 "cells": [
  {
   "cell_type": "code",
   "execution_count": 1,
   "metadata": {},
   "outputs": [],
   "source": [
    "import logging\n",
    "import time\n",
    "import tweepy\n",
    "import pandas as pd\n",
    "import numpy as np\n",
    "import matplotlib.pyplot as plt\n",
    "import geocoder\n",
    "import requests\n",
    "from urllib.request import urlopen, Request\n",
    "\n",
    "# kemungkinan besar key token sudah expired\n",
    "api_secret = '1C5y5mJ22wNRnYxiL7I3XxlWqw0dfZl1aoOfG58Td7JLHJiNCK'\n",
    "api_key = 'zMl3pH44bPIkUkJoQAAqXw8WI'\n",
    "bearer_token  = 'AAAAAAAAAAAAAAAAAAAAAFf9MwEAAAAA%2F5XsPkybcbam2e9i9lx8Xt5QMjI%3DRpph4jP9mu15X3REyoGMkgq7QbUGRQjla3djteWbwm8fwjuThq'\n",
    "access_token = '1159389149368950784-hFHGhydaGXj7aADLrHrbT9goUA3rUI'\n",
    "access_token_secret = 'QA1Cd2dgTCK7ZKn7f6V4sYTcFD7kzgcckObbPayLa5aBS'\n",
    "\n",
    "auth = tweepy.OAuthHandler(api_key, api_secret); auth.set_access_token(access_token,access_token_secret)\n",
    "api = tweepy.API(auth)"
   ]
  },
  {
   "source": [
    "Cara kerja chain network ini adalah dengan menghubungkan user dengan user lain berdasarkan aktivitas replies mereka.\n",
    "\n",
    "Didasarkan dengan algoritma twitter yang selalu menampilkan aktivitas replies yang dilakukan suatu akun terhadap akun lain, maka secara otomatis akan terdiscover oleh pengikut akun yang mereply tersebut"
   ],
   "cell_type": "markdown",
   "metadata": {}
  },
  {
   "source": [
    "Untuk melakukan community detection, kami mengikuti pola algoritma Netlytic (Who's replies whom) dan mengaplikasikannya dengan menggunakan advanced search bawaan Twitter API\n",
    "\n",
    "Untuk penemuan kelompok komunitas akan dilakukan dan dideteksi oleh aplikasi Gephi"
   ],
   "cell_type": "markdown",
   "metadata": {}
  },
  {
   "cell_type": "code",
   "execution_count": 5,
   "metadata": {},
   "outputs": [],
   "source": [
    "# mengambil tweet  yang muncul ditujukan pada akun utama (yang dicari)\n",
    "def crawl_tweets(keywords, count, arr_tweet):\n",
    "    search = keywords\n",
    "    new_search = search\n",
    "    list_tweet = arr_tweet\n",
    "    tweets = tweepy.Cursor(api.search, q=new_search, lang=\"id\").items(count)\n",
    "    for tweet in tweets:\n",
    "        if tweet.in_reply_to_status_id == None:\n",
    "            continue\n",
    "        else:\n",
    "            list_tweet.append([tweet.user.screen_name, tweet.in_reply_to_screen_name])\n",
    "\n",
    "    return list_tweet\n",
    "\n",
    "# mengambil replies dari akun yang dicarikan\n",
    "def crawl_replies(keywords, count, arr_tweet):\n",
    "    search = keywords\n",
    "    new_search = search\n",
    "    list_tweet = arr_tweet\n",
    "    idx = 0\n",
    "    tweets = tweepy.Cursor(api.search, q=new_search, lang=\"id\").items(count)\n",
    "    for tweet in tweets:\n",
    "        if tweet.in_reply_to_status_id == None:\n",
    "            continue\n",
    "        elif tweet.user.screen_name == tweet.in_reply_to_screen_name:\n",
    "            continue\n",
    "        else:\n",
    "            list_tweet.append([tweet.user.screen_name, tweet.in_reply_to_screen_name])\n",
    "        idx+=1\n",
    "    \n",
    "    return list_tweet\n",
    "\n",
    "# berguna untuk mencari replies dari tiap replier\n",
    "def search_replier(data,count):\n",
    "    idx = 0\n",
    "    for i in range(len(data)):\n",
    "        try:\n",
    "            user_screen_name = data[idx][0]\n",
    "            query1 = '(to:'+user_screen_name+' filter:replies)'\n",
    "            data = crawl_replies(query1,count,data)\n",
    "            print(idx+1,'. ',query1)\n",
    "            idx+=1\n",
    "        except tweepy.RateLimitError as e:\n",
    "            logging.error(\"Twitter api rate limit reached\".format(e))\n",
    "            time.sleep(60)\n",
    "            continue\n",
    "    return data"
   ]
  },
  {
   "cell_type": "code",
   "execution_count": null,
   "metadata": {},
   "outputs": [],
   "source": [
    "# bila data sudah ada\n",
    "data = pd.read_xlsx('namafile.xlsx')"
   ]
  },
  {
   "cell_type": "code",
   "execution_count": 6,
   "metadata": {},
   "outputs": [],
   "source": [
    "# bila ingin inisialisasi data baru\n",
    "data = []"
   ]
  },
  {
   "cell_type": "code",
   "execution_count": 8,
   "metadata": {
    "tags": []
   },
   "outputs": [],
   "source": [
    "# pengambilan data\n",
    "data = crawl_tweets('(to:XiaomiIndonesia) min_replies:0 min_faves:0 min_retweets:0 lang:id', 75, data)\n",
    "\n",
    "# disimpan menjadi excel\n",
    "df = pd.DataFrame(data,columns=['from','to'])\n",
    "df.to_csv('to_XiaomiIndonesia.csv', index=False)"
   ]
  },
  {
   "cell_type": "code",
   "execution_count": 9,
   "metadata": {},
   "outputs": [
    {
     "output_type": "execute_result",
     "data": {
      "text/plain": [
       "[['ditakarina', 'XiaomiIndonesia'],\n",
       " ['KenJimmy88', 'XiaomiIndonesia'],\n",
       " ['MailMKD', 'XiaomiIndonesia'],\n",
       " ['remyjovi', 'XiaomiIndonesia'],\n",
       " ['Andrylino25', 'XiaomiIndonesia'],\n",
       " ['hawariyash', 'XiaomiIndonesia'],\n",
       " ['Dhenz507', 'XiaomiIndonesia'],\n",
       " ['adamramadhanrs', 'XiaomiIndonesia'],\n",
       " ['Yudi116515', 'XiaomiIndonesia'],\n",
       " ['MarajoSm', 'XiaomiIndonesia'],\n",
       " ['Didik16599789', 'XiaomiIndonesia'],\n",
       " ['UCL_Gamer_SMG', 'XiaomiIndonesia'],\n",
       " ['vellyfilliy', 'XiaomiIndonesia'],\n",
       " ['resnujr', 'XiaomiIndonesia'],\n",
       " ['DOCTOR_GLOCK_YT', 'XiaomiIndonesia'],\n",
       " ['Geraldhi_7D', 'XiaomiIndonesia'],\n",
       " ['ArrafifRafi', 'XiaomiIndonesia'],\n",
       " ['asalbyh', 'XiaomiIndonesia'],\n",
       " ['didihamzaa', 'XiaomiIndonesia'],\n",
       " ['leo_tech2broke', 'XiaomiIndonesia'],\n",
       " ['winteraphy', 'XiaomiIndonesia'],\n",
       " ['MuhKalam', 'XiaomiIndonesia'],\n",
       " ['fizahut_', 'XiaomiIndonesia'],\n",
       " ['FRiasati', 'XiaomiIndonesia'],\n",
       " ['asep_rifa', 'XiaomiIndonesia'],\n",
       " ['resnujr', 'XiaomiIndonesia'],\n",
       " ['kerjamuluk', 'XiaomiIndonesia'],\n",
       " ['Husen2801', 'XiaomiIndonesia'],\n",
       " ['dieliatin', 'XiaomiIndonesia'],\n",
       " ['sonygunawan86', 'XiaomiIndonesia'],\n",
       " ['didinw_14', 'XiaomiIndonesia'],\n",
       " ['kecapbotolsaus', 'XiaomiIndonesia'],\n",
       " ['wandimaulanaa', 'XiaomiIndonesia'],\n",
       " ['fizahut_', 'XiaomiIndonesia'],\n",
       " ['yoongiminions', 'XiaomiIndonesia'],\n",
       " ['spy8899', 'XiaomiIndonesia'],\n",
       " ['UNLIMITEDLOTTO', 'XiaomiIndonesia'],\n",
       " ['Rayyyaa_', 'XiaomiIndonesia'],\n",
       " ['Budi_R25', 'XiaomiIndonesia'],\n",
       " ['ditakarina', 'XiaomiIndonesia'],\n",
       " ['KenJimmy88', 'XiaomiIndonesia'],\n",
       " ['MailMKD', 'XiaomiIndonesia'],\n",
       " ['remyjovi', 'XiaomiIndonesia'],\n",
       " ['Andrylino25', 'XiaomiIndonesia'],\n",
       " ['hawariyash', 'XiaomiIndonesia'],\n",
       " ['Dhenz507', 'XiaomiIndonesia'],\n",
       " ['adamramadhanrs', 'XiaomiIndonesia'],\n",
       " ['Yudi116515', 'XiaomiIndonesia'],\n",
       " ['MarajoSm', 'XiaomiIndonesia'],\n",
       " ['Didik16599789', 'XiaomiIndonesia'],\n",
       " ['UCL_Gamer_SMG', 'XiaomiIndonesia'],\n",
       " ['vellyfilliy', 'XiaomiIndonesia'],\n",
       " ['resnujr', 'XiaomiIndonesia'],\n",
       " ['DOCTOR_GLOCK_YT', 'XiaomiIndonesia'],\n",
       " ['Geraldhi_7D', 'XiaomiIndonesia'],\n",
       " ['ArrafifRafi', 'XiaomiIndonesia'],\n",
       " ['asalbyh', 'XiaomiIndonesia'],\n",
       " ['didihamzaa', 'XiaomiIndonesia'],\n",
       " ['leo_tech2broke', 'XiaomiIndonesia'],\n",
       " ['winteraphy', 'XiaomiIndonesia'],\n",
       " ['MuhKalam', 'XiaomiIndonesia'],\n",
       " ['fizahut_', 'XiaomiIndonesia'],\n",
       " ['FRiasati', 'XiaomiIndonesia'],\n",
       " ['asep_rifa', 'XiaomiIndonesia'],\n",
       " ['resnujr', 'XiaomiIndonesia'],\n",
       " ['kerjamuluk', 'XiaomiIndonesia'],\n",
       " ['Husen2801', 'XiaomiIndonesia'],\n",
       " ['dieliatin', 'XiaomiIndonesia'],\n",
       " ['sonygunawan86', 'XiaomiIndonesia'],\n",
       " ['didinw_14', 'XiaomiIndonesia'],\n",
       " ['kecapbotolsaus', 'XiaomiIndonesia'],\n",
       " ['wandimaulanaa', 'XiaomiIndonesia'],\n",
       " ['fizahut_', 'XiaomiIndonesia'],\n",
       " ['yoongiminions', 'XiaomiIndonesia'],\n",
       " ['spy8899', 'XiaomiIndonesia'],\n",
       " ['UNLIMITEDLOTTO', 'XiaomiIndonesia'],\n",
       " ['Rayyyaa_', 'XiaomiIndonesia'],\n",
       " ['Budi_R25', 'XiaomiIndonesia']]"
      ]
     },
     "metadata": {},
     "execution_count": 9
    }
   ],
   "source": [
    "data"
   ]
  },
  {
   "source": [
    "Karena keterbatasan API Twitter yang membatasi rate limit hanya 180 tweet per 15 menit\n",
    "\n",
    "Akan dilakukan pengambilan data dengan beberapa kali attempt per tiap 15 menit"
   ],
   "cell_type": "markdown",
   "metadata": {}
  },
  {
   "cell_type": "code",
   "execution_count": 10,
   "metadata": {},
   "outputs": [
    {
     "output_type": "stream",
     "name": "stdout",
     "text": [
      "1 .  (to:ditakarina filter:replies)\n",
      "2 .  (to:KenJimmy88 filter:replies)\n",
      "3 .  (to:MailMKD filter:replies)\n",
      "4 .  (to:remyjovi filter:replies)\n",
      "5 .  (to:Andrylino25 filter:replies)\n",
      "6 .  (to:hawariyash filter:replies)\n",
      "7 .  (to:Dhenz507 filter:replies)\n",
      "8 .  (to:adamramadhanrs filter:replies)\n",
      "9 .  (to:Yudi116515 filter:replies)\n",
      "10 .  (to:MarajoSm filter:replies)\n",
      "11 .  (to:Didik16599789 filter:replies)\n",
      "12 .  (to:UCL_Gamer_SMG filter:replies)\n",
      "13 .  (to:vellyfilliy filter:replies)\n",
      "14 .  (to:resnujr filter:replies)\n",
      "15 .  (to:DOCTOR_GLOCK_YT filter:replies)\n",
      "16 .  (to:Geraldhi_7D filter:replies)\n",
      "17 .  (to:ArrafifRafi filter:replies)\n",
      "18 .  (to:asalbyh filter:replies)\n",
      "19 .  (to:didihamzaa filter:replies)\n",
      "20 .  (to:leo_tech2broke filter:replies)\n",
      "21 .  (to:winteraphy filter:replies)\n",
      "22 .  (to:MuhKalam filter:replies)\n",
      "23 .  (to:fizahut_ filter:replies)\n",
      "24 .  (to:FRiasati filter:replies)\n",
      "25 .  (to:asep_rifa filter:replies)\n",
      "26 .  (to:resnujr filter:replies)\n",
      "27 .  (to:kerjamuluk filter:replies)\n",
      "28 .  (to:Husen2801 filter:replies)\n",
      "29 .  (to:dieliatin filter:replies)\n",
      "30 .  (to:sonygunawan86 filter:replies)\n",
      "31 .  (to:didinw_14 filter:replies)\n",
      "32 .  (to:kecapbotolsaus filter:replies)\n",
      "33 .  (to:wandimaulanaa filter:replies)\n",
      "34 .  (to:fizahut_ filter:replies)\n",
      "35 .  (to:yoongiminions filter:replies)\n",
      "36 .  (to:spy8899 filter:replies)\n",
      "37 .  (to:UNLIMITEDLOTTO filter:replies)\n",
      "38 .  (to:Rayyyaa_ filter:replies)\n",
      "39 .  (to:Budi_R25 filter:replies)\n",
      "40 .  (to:ditakarina filter:replies)\n",
      "41 .  (to:KenJimmy88 filter:replies)\n",
      "42 .  (to:MailMKD filter:replies)\n",
      "43 .  (to:remyjovi filter:replies)\n",
      "44 .  (to:Andrylino25 filter:replies)\n",
      "45 .  (to:hawariyash filter:replies)\n",
      "46 .  (to:Dhenz507 filter:replies)\n",
      "47 .  (to:adamramadhanrs filter:replies)\n",
      "48 .  (to:Yudi116515 filter:replies)\n",
      "49 .  (to:MarajoSm filter:replies)\n",
      "50 .  (to:Didik16599789 filter:replies)\n",
      "51 .  (to:UCL_Gamer_SMG filter:replies)\n",
      "52 .  (to:vellyfilliy filter:replies)\n",
      "53 .  (to:resnujr filter:replies)\n",
      "54 .  (to:DOCTOR_GLOCK_YT filter:replies)\n",
      "55 .  (to:Geraldhi_7D filter:replies)\n",
      "56 .  (to:ArrafifRafi filter:replies)\n",
      "57 .  (to:asalbyh filter:replies)\n",
      "58 .  (to:didihamzaa filter:replies)\n",
      "59 .  (to:leo_tech2broke filter:replies)\n",
      "60 .  (to:winteraphy filter:replies)\n",
      "61 .  (to:MuhKalam filter:replies)\n",
      "62 .  (to:fizahut_ filter:replies)\n",
      "63 .  (to:FRiasati filter:replies)\n",
      "64 .  (to:asep_rifa filter:replies)\n",
      "65 .  (to:resnujr filter:replies)\n",
      "66 .  (to:kerjamuluk filter:replies)\n",
      "67 .  (to:Husen2801 filter:replies)\n",
      "68 .  (to:dieliatin filter:replies)\n",
      "69 .  (to:sonygunawan86 filter:replies)\n",
      "70 .  (to:didinw_14 filter:replies)\n",
      "71 .  (to:kecapbotolsaus filter:replies)\n",
      "72 .  (to:wandimaulanaa filter:replies)\n",
      "73 .  (to:fizahut_ filter:replies)\n",
      "74 .  (to:yoongiminions filter:replies)\n",
      "75 .  (to:spy8899 filter:replies)\n",
      "76 .  (to:UNLIMITEDLOTTO filter:replies)\n",
      "77 .  (to:Rayyyaa_ filter:replies)\n",
      "78 .  (to:Budi_R25 filter:replies)\n"
     ]
    }
   ],
   "source": [
    "# pengambilan data attempt pertama\n",
    "data_rep = search_replier(data,10)\n",
    "\n",
    "# disimpan menjadi excel\n",
    "df = pd.DataFrame(data_rep,columns=['from','to'])\n",
    "df.to_csv('to_XiaomiIndonesia1.csv', index=False)"
   ]
  },
  {
   "source": [
    "untuk percobaan kali ini dilakukan crawl hanya satu kali dikarenakan rate limit API Twitter\n",
    "\n",
    "apabila ingin mendapatkan banyak nodes dan edges, dapat melakukan attempt kedua dan ketiga untuk hasil yang lebih dalam lagi (dengan waktu lebih lama)"
   ],
   "cell_type": "markdown",
   "metadata": {}
  },
  {
   "source": [
    "# tunggu 15 menit\n",
    "# pengambilan data attempt kedua\n",
    "# 39 disini adalah angka random\n",
    "data_rep1 = search_replier(data_rep[39:],10)\n",
    "\n",
    "# disimpan menjadi excel\n",
    "df1 = pd.DataFrame(data_rep1,columns=['from','to'])\n",
    "df1.to_csv('to_XiaomiIndonesia2.csv', index=False)"
   ],
   "cell_type": "code",
   "metadata": {},
   "execution_count": null,
   "outputs": []
  },
  {
   "cell_type": "code",
   "execution_count": null,
   "metadata": {},
   "outputs": [],
   "source": [
    "# tunggu 15 menit\n",
    "# pengambilan data attempt kedua\n",
    "# 87 disini adalah angka random\n",
    "data_rep1 = search_replier(data_rep1[87:],10)\n",
    "\n",
    "# disimpan menjadi excel\n",
    "df2 = pd.DataFrame(data_rep1,columns=['from','to'])\n",
    "df2.to_csv('to_XiaomiIndonesia3.csv', index=False)"
   ]
  },
  {
   "source": [
    "Kemudian data csv terakhir dapat diupload pada netlytic atau divisualisasikan pada gephi"
   ],
   "cell_type": "markdown",
   "metadata": {}
  }
 ]
}